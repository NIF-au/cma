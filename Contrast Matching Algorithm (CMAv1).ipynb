{
 "cells": [
  {
   "cell_type": "code",
   "execution_count": 1,
   "metadata": {
    "collapsed": true
   },
   "outputs": [],
   "source": [
    "# DESCRIPTION\n",
    "\n",
    "# Variables that can be changed\n",
    "# 1. size of smoothing kernel (default = 21)\n",
    "# 2. scale factor value, used to maintain precision in data format conversion (default max_val = 1000)\n",
    "# 3. smoothing factor value, used to smooth spline (default = 1200)"
   ]
  },
  {
   "cell_type": "code",
   "execution_count": 1,
   "metadata": {
    "collapsed": false
   },
   "outputs": [],
   "source": [
    "# libraries \n",
    "import nibabel as nib\n",
    "import numpy as np\n",
    "from scipy import stats\n",
    "from mpl_toolkits.mplot3d import Axes3D\n",
    "import matplotlib.pyplot as plt\n",
    "from scipy.optimize import curve_fit\n",
    "from scipy.interpolate import UnivariateSpline\n",
    "from __future__ import division\n",
    "import sys\n",
    "import subprocess, shlex\n",
    "from scipy import ndimage"
   ]
  },
  {
   "cell_type": "code",
   "execution_count": 2,
   "metadata": {
    "collapsed": true
   },
   "outputs": [],
   "source": [
    "# definitions\n",
    "def tic():\n",
    "    #Homemade version of matlab tic and toc functions\n",
    "    import time\n",
    "    global startTime_for_tictoc\n",
    "    startTime_for_tictoc = time.time()\n",
    "\n",
    "def toc():\n",
    "    import time\n",
    "    if 'startTime_for_tictoc' in globals():\n",
    "        print(\"Elapsed time is \" + str(time.time() - startTime_for_tictoc) + \" seconds.\")\n",
    "    else:\n",
    "        print(\"Toc: start time not set\")\n",
    "\n",
    "def rescale(values, new_min = 0, new_max = 1):\n",
    "    output = []\n",
    "    old_min, old_max = min(values), max(values)\n",
    "    for v in values:\n",
    "        new_v = (new_max - new_min) / (old_max - old_min) * (v - old_min) + new_min\n",
    "        output.append(new_v)\n",
    "    return output"
   ]
  },
  {
   "cell_type": "code",
   "execution_count": 7,
   "metadata": {
    "collapsed": true
   },
   "outputs": [],
   "source": [
    "# insert filepath to folder with files\n",
    "filepath = \"/.../\""
   ]
  },
  {
   "cell_type": "code",
   "execution_count": 5,
   "metadata": {
    "collapsed": false
   },
   "outputs": [],
   "source": [
    "# 1. NORMALISATION OF BOTH MODELS"
   ]
  },
  {
   "cell_type": "code",
   "execution_count": null,
   "metadata": {
    "collapsed": true
   },
   "outputs": [],
   "source": [
    "# of model with contrast 1\n",
    "input_im = filepath + \"model_contrast1.mnc\"\n",
    "output_im = filepath + \"contrast1_norm.mnc\"\n",
    "shell_cmd = \"mincnorm\" + \" \" + input_im + \" \" + output_im\n",
    "args = shlex.split(shell_cmd)\n",
    "print(args)\n",
    "p = subprocess.Popen(args)\n",
    "\n",
    "# of model with contrast 2\n",
    "input_im = filepath + \"model_contrast2_roughAligned2contrast1.mnc\"\n",
    "output_im = filepath + \"contrast2_roughAligned2contrast1_norm.mnc\"\n",
    "shell_cmd = \"mincnorm\" + \" \" + input_im + \" \" + output_im\n",
    "args = shlex.split(shell_cmd)\n",
    "print(args)\n",
    "p = subprocess.Popen(args)"
   ]
  },
  {
   "cell_type": "code",
   "execution_count": 8,
   "metadata": {
    "collapsed": true
   },
   "outputs": [],
   "source": [
    "# 2. MASK GENERATION "
   ]
  },
  {
   "cell_type": "code",
   "execution_count": null,
   "metadata": {
    "collapsed": true
   },
   "outputs": [],
   "source": [
    "# format-conversion mnc2nii \n",
    "input_im =  filepath + \"contrast1_norm.mnc\" \n",
    "output_im = filepath + \"contrast1.nii\"\n",
    "shell_cmd = \"mnc2nii\" + \" \" + input_im + \" \" + output_im \n",
    "args = shlex.split(shell_cmd)\n",
    "print(args)\n",
    "p = subprocess.Popen(args) \n",
    "\n",
    "# bet\n",
    "input_im = filepath + \"contrast1.nii\"\n",
    "output_im = filepath + \"contrast1_bet.nii\"\n",
    "shell_cmd = \"bet\" + \" \" + input_im + \" \" + output_im + \" \" + \"-R -m -f 0.5 -v\"\n",
    "args = shlex.split(shell_cmd)\n",
    "print(args)\n",
    "p = subprocess.Popen(args) \n",
    "\n",
    "# format-conversion nii2mnc \n",
    "input_im = filepath + \"contrast1_bet_mask.nii\"\n",
    "output_im = filepath + \"contrast1_bet_mask.mnc\"\n",
    "shell_cmd = \"nii2mnc\" + \" \" + input_im + \" \" + output_im\n",
    "args = shlex.split(shell_cmd)\n",
    "print(args)\n",
    "p = subprocess.Popen(args) "
   ]
  },
  {
   "cell_type": "code",
   "execution_count": 14,
   "metadata": {
    "collapsed": true
   },
   "outputs": [],
   "source": [
    "# 3. RESAMPLING"
   ]
  },
  {
   "cell_type": "code",
   "execution_count": null,
   "metadata": {
    "collapsed": true
   },
   "outputs": [],
   "source": [
    "# resample one model (with contrast 1) to the other model (with contrast 2)\n",
    "resampleToModel = filepath + \"contrast2_roughAligned2contrast1_norm.mnc\"\n",
    "input_im = filepath + \"contrast1_norm.mnc\"\n",
    "output_im = filepath + \"contrast1_norm_resampled2contrast2.mnc\"\n",
    "shell_cmd = \"mincresample -like\" + \" \" + resampleToModel + \" \" + input_im + \" \" + output_im\n",
    "args = shlex.split(shell_cmd)\n",
    "print(args)\n",
    "p = subprocess.Popen(args)\n",
    "\n",
    "# resampling of mask\n",
    "input_im = filepath + \"contrast1_bet_mask.mnc\"\n",
    "output_im =  filepath + \"contrast1_bet_mask_resampled2contrast2.mnc\"\n",
    "shell_cmd = \"mincresample -like\" + \" \" + resampleToModel + \" \" + input_im + \" \" + output_im\n",
    "args = shlex.split(shell_cmd)\n",
    "p = subprocess.Popen(args) "
   ]
  },
  {
   "cell_type": "code",
   "execution_count": 17,
   "metadata": {
    "collapsed": true
   },
   "outputs": [],
   "source": [
    "# 4. LOADING "
   ]
  },
  {
   "cell_type": "code",
   "execution_count": 25,
   "metadata": {
    "collapsed": true
   },
   "outputs": [],
   "source": [
    "# load images\n",
    "contrast1 = nib.load(filepath + 'contrast1_norm_resampled2contrast2.mnc')\n",
    "contrast2 = nib.load(filepath + 'contrast2_roughAligned2contrast1_norm.mnc')\n",
    "# load mask\n",
    "mask = nib.load(filepath + 'contrast1_bet_mask_resampled2contrast2.mnc')\n",
    "\n",
    "# get image data \n",
    "contrast1Data = contrast1.get_data()\n",
    "contrast2Data = contrast2.get_data()\n",
    "maskData = mask.get_data()\n",
    "\n",
    "# convert to numpy array\n",
    "arr_contrast1 = np.array(contrast1Data)\n",
    "arr_contrast2 = np.array(contrast2Data)\n",
    "arr_mask = np.array(maskData)"
   ]
  },
  {
   "cell_type": "code",
   "execution_count": null,
   "metadata": {
    "collapsed": true
   },
   "outputs": [],
   "source": [
    "# 5. APPLICATION OF MASK "
   ]
  },
  {
   "cell_type": "code",
   "execution_count": null,
   "metadata": {
    "collapsed": true
   },
   "outputs": [],
   "source": [
    "contrast1_masked = arr_contrast1 * arr_mask\n",
    "contrast2_masked = arr_contrast2 * arr_mask"
   ]
  },
  {
   "cell_type": "code",
   "execution_count": null,
   "metadata": {
    "collapsed": true
   },
   "outputs": [],
   "source": [
    "# 6. SMOOTHING OF MODEL WITH CONTRAST 1"
   ]
  },
  {
   "cell_type": "code",
   "execution_count": 13,
   "metadata": {
    "collapsed": false
   },
   "outputs": [],
   "source": [
    "contrast1_smoothed = ndimage.uniform_filter(contrast1_masked, size=[21, 21, 21])"
   ]
  },
  {
   "cell_type": "code",
   "execution_count": null,
   "metadata": {
    "collapsed": true
   },
   "outputs": [],
   "source": [
    "# 7. INTENSITY LOOKUP "
   ]
  },
  {
   "cell_type": "code",
   "execution_count": 14,
   "metadata": {
    "collapsed": true
   },
   "outputs": [],
   "source": [
    "# convert from 3D to 1D\n",
    "reshape_size_contrast1 = contrast1_smoothed.size\n",
    "reshape_size_contrast2 = contrast2_masked.size\n",
    "\n",
    "arr1D_contrast1 = np.reshape(contrast1_smoothed.data, reshape_size_contrast1)\n",
    "arr1D_contrast2 = np.reshape(contrast2_masked.data, reshape_size_contrast2)\n",
    "\n",
    "# max val \n",
    "max_contrast2 = np.amax(arr1D_contrast2)\n",
    "max_val = 1000.0\n",
    "\n",
    "# scaling   \n",
    "scaleFactor_2 = max_val / max_contrast2\n",
    "arr1D_contrast2_scaled = arr1D_contrast2 * scaleFactor_2\n",
    "\n",
    "# convert data type (float64 --> uint32)\n",
    "contrast2_uint32 = np.uint32(arr1D_contrast2_scaled)\n",
    "\n",
    "# unique val and indeces of modality 2 \n",
    "unique, indeces = np.unique(contrast2_uint32, return_index=True)\n",
    "\n",
    "# only picking out unique val \n",
    "contrast2_unique = contrast2_uint32[indeces]\n",
    "\n",
    "# only including unique values above 0 \n",
    "M = np.where(contrast2_unique > 0)\n",
    "contrast2_unique_zero = contrast2_unique[M] \n",
    "\n",
    "# allocating space - FIND UD AF OM ALLE VAR SKAL VAERE ARRAYS\n",
    "targetVal = np.array([])\n",
    "logicMatch = np.array([])\n",
    "valMatch_modal1 = np.array([])\n",
    "finalValMatch = np.array([])\n",
    "len_contrast2_unique_zero = len(contrast2_unique_zero)"
   ]
  },
  {
   "cell_type": "code",
   "execution_count": null,
   "metadata": {
    "collapsed": true
   },
   "outputs": [],
   "source": [
    "tic()\n",
    "# match intensities\n",
    "finalValMatch = np.array([])\n",
    "for i in range(len_contrast2_unique_zero):\n",
    "    targetVal = contrast2_unique_zero[i]\n",
    "    L = np.where(contrast2_uint32 == targetVal)\n",
    "    valMatch_modal1 = arr1D_contrast1[L]\n",
    "    \n",
    "    Blist = stats.itemfreq(valMatch_modal1).tolist()\n",
    "    \n",
    "    # finding the values with the highest frequency \n",
    "    max_count = max(Blist, key=lambda x: x[1])\n",
    "    max_val_list = [x for x in Blist if x[1] == max_count[1]]\n",
    "    max_vals = [l[0] for l in max_val_list]\n",
    "    mean_val = np.mean(max_vals)\n",
    "    finalValMatch = np.append(finalValMatch, mean_val)\n",
    "toc()"
   ]
  },
  {
   "cell_type": "code",
   "execution_count": 20,
   "metadata": {
    "collapsed": true
   },
   "outputs": [],
   "source": [
    "# data type conversion and rescaling of modality 2\n",
    "contrast2_unique_fl64 = np.float64(contrast2_unique_zero) \n",
    "contrast2_unique_fl64_rescaled = contrast2_unique_fl64 / scaleFactor_2"
   ]
  },
  {
   "cell_type": "code",
   "execution_count": 30,
   "metadata": {
    "collapsed": true
   },
   "outputs": [],
   "source": [
    "# 8. SPLINE FITTING"
   ]
  },
  {
   "cell_type": "code",
   "execution_count": 21,
   "metadata": {
    "collapsed": false
   },
   "outputs": [],
   "source": [
    "x = contrast2_unique_fl64_rescaled # intensities of contrast 2\n",
    "y = finalValMatch # matching intensities of contrast 1\n",
    "\n",
    "plt.plot(x, y, '.', label=\"W21 data points\") \n",
    "\n",
    "# creating the spline\n",
    "spl = UnivariateSpline(x, y)\n",
    "# adjusting the amount of smoothing:\n",
    "spl.set_smoothing_factor(1200)\n",
    "\n",
    "x_converted = spl(x)\n",
    "plt.plot(x, x_converted, 'g', lw=1, label=\"Fitted spline (sf = 1200)\")  \n",
    "plt.legend(loc='upper right')\n",
    "plt.xlabel('Intensity values of TSE image volume')\n",
    "plt.ylabel('Intensity values of MP2RAGE volume')\n",
    "plt.show()"
   ]
  },
  {
   "cell_type": "code",
   "execution_count": 33,
   "metadata": {
    "collapsed": true
   },
   "outputs": [],
   "source": [
    "# 9. LOOKUP TABLE GENERATION"
   ]
  },
  {
   "cell_type": "code",
   "execution_count": null,
   "metadata": {
    "collapsed": true
   },
   "outputs": [],
   "source": [
    "firstLutColumn = x\n",
    "secondLutColumn = x_converted\n",
    "\n",
    "# rescaling of intensity values to the range 0-1\n",
    "firstLutColumn = rescale(firstLutColumn, 0, 1)\n",
    "secondLutColumn = rescale(secondLutColumn, 0, 1)\n",
    "\n",
    "# saving lookup table (lut) as .txt\n",
    "lut = open(\"lookuptable.txt\",\"w\")\n",
    "for j in range(len(firstLutColumn)):\n",
    "    firstLutColumn_str = str(firstLutColumn[j])\n",
    "    secondLutColumn_str = str(secondLutColumn[j])\n",
    "    lut.write(firstLutColumn_str + \" \" + secondLutColumn_str + \"\\n\")\n",
    "lut.close()"
   ]
  },
  {
   "cell_type": "code",
   "execution_count": 36,
   "metadata": {
    "collapsed": true
   },
   "outputs": [],
   "source": [
    "# 10. CONTRAST CONVERSION OF MODEL WITH CONTRAST 2 USING LOOKUP TABLE"
   ]
  },
  {
   "cell_type": "code",
   "execution_count": null,
   "metadata": {
    "collapsed": true
   },
   "outputs": [],
   "source": [
    "# conversion using look up function\n",
    "lut = filepath + \"lookuptable.txt\"\n",
    "input_im = filepath + \"model_contrast2_roughAligned2contrast1.mnc\"\n",
    "output_im = filepath + \"contrast2_lookupConverted2contrast1.mnc\"\n",
    "shell_cmd = \"minclookup -continuous -lookup_table\" + \" \" + lut + \" \" + input_im + \" \" + output_im + \" \" + \"-2\"\n",
    "args = shlex.split(shell_cmd)\n",
    "print(args)\n",
    "p = subprocess.Popen(args) "
   ]
  }
 ],
 "metadata": {
  "anaconda-cloud": {},
  "kernelspec": {
   "display_name": "Python [default]",
   "language": "python",
   "name": "python3"
  },
  "language_info": {
   "codemirror_mode": {
    "name": "ipython",
    "version": 3
   },
   "file_extension": ".py",
   "mimetype": "text/x-python",
   "name": "python",
   "nbconvert_exporter": "python",
   "pygments_lexer": "ipython3",
   "version": "3.5.2"
  }
 },
 "nbformat": 4,
 "nbformat_minor": 0
}
